{
 "cells": [
  {
   "cell_type": "markdown",
   "metadata": {},
   "source": [
    "# ArcGIS Portal Login Tracker Graph Builder\n",
    "This script uses data outputted from the ArcGIS Portal Login Tracker to build standard basic graphs of user login data. The graphs built here assume the original tracker script grabs logs user roles; certain graphs cannot be generated without this data.\n",
    "\n",
    "Graphs are built entirely seperately, allowing admin users to build on those they choose, rather than the entire set. Each graph utilizes the initialization code, which must be run first.\n",
    "\n",
    "## Paramaters\n",
    "`csv_file`: Path to your login tracker data CSV.\n",
    "\n",
    "`figure_directory`: Path to the directory graphs will be saved to. This must end in a slash character.\n",
    "\n",
    "`show_plots`: Whether or not to show plots within the notebook. Setting this to `False` will not show plots, but will save them to the figure directory.\n",
    "\n",
    "`plot_role_rename`: A dictionary of old and new role names. Names included here will be changed before building the graph resulting in updated column names, graph key values, etc. This variable can be ignored if roles are not included in the CSV file.\n",
    "\n",
    "`single_plot_color`: The color used when building most graph elements (lines for time series and bar chart bars). A color name or hex code can be used.\n",
    "\n",
    "`multi_plot_colors`: A list of the colors used when building graph elements that require multiple colors (only applies to graphs utilizing user role data). Color names or hex codes can be used. This variable can be ignored if roles are not included in the CSV file."
   ]
  },
  {
   "cell_type": "markdown",
   "metadata": {},
   "source": [
    "## Initialization"
   ]
  },
  {
   "cell_type": "code",
   "execution_count": null,
   "metadata": {},
   "outputs": [],
   "source": [
    "#Parameters\n",
    "csv_file = 'C:/path/to/your/file.csv'\n",
    "figure_directory = 'C:/path/to/figures/'\n",
    "show_plots = True\n",
    "\n",
    "plot_role_rename = {'org_admin':'Admin'}\n",
    "single_plot_color = '#365c8d'\n",
    "multi_plot_colors = ['#9fda3a','#4ac16d','#1fa187','#277f8e','#365c8d','#46337e','#440154'] \n",
    "##Number of Colors must be Equal to or Greater than the Number of User Roles for the Organization"
   ]
  },
  {
   "cell_type": "code",
   "execution_count": null,
   "metadata": {},
   "outputs": [],
   "source": [
    "#Import Libraries\n",
    "from datetime import datetime\n",
    "import csv\n",
    "import matplotlib.pyplot as plt"
   ]
  },
  {
   "cell_type": "markdown",
   "metadata": {},
   "source": [
    "## Load and Format Data"
   ]
  },
  {
   "cell_type": "code",
   "execution_count": null,
   "metadata": {},
   "outputs": [],
   "source": [
    "#Read CSV Data\n",
    "with open(csv_file) as file:\n",
    "    login_data = [row for row in csv.DictReader(file)]\n",
    "\n",
    "for record in login_data:\n",
    "    record['lastLogin'] = datetime.strptime(record['lastLogin'], '%Y-%m-%d')"
   ]
  },
  {
   "cell_type": "code",
   "execution_count": null,
   "metadata": {},
   "outputs": [],
   "source": [
    "#Parameter Validation\n",
    "if not isinstance(show_plots, bool):\n",
    "    raise TypeError('show_plots must be a boolean value.')\n",
    "if figure_directory[-1] not in  ['/','\\\\']:\n",
    "    raise ValueError('Figure directory must end in a slash character.')\n",
    "if not isinstance(multi_plot_colors, list):\n",
    "    raise TypeError('Plot colors must be a list.')\n",
    "if not isinstance(plot_role_rename, dict):\n",
    "    raise TypeError('Plot renaming values must be a dictionary.')\n",
    "\n",
    "##Update Role Names\n",
    "if 'role' in login_data[0]:\n",
    "    if plot_role_rename != {}:\n",
    "        role_error = [role for role in plot_role_rename if role not in {r['role'] for r in login_data}]\n",
    "        if len(role_error) > 0:\n",
    "            raise ValueError(f'The following role values in plot_role_rename are not present in the dataset: {', '.join(role_error)}.')\n",
    "        \n",
    "        for record in login_data:\n",
    "            if record['role'] in plot_role_rename:\n",
    "                record['role'] = plot_role_rename[record['role']]"
   ]
  },
  {
   "cell_type": "code",
   "execution_count": null,
   "metadata": {},
   "outputs": [],
   "source": [
    "#Get a List of unique Dates in Order\n",
    "unique_dates = []\n",
    "for record in login_data:\n",
    "    if record['lastLogin'] not in unique_dates:\n",
    "        unique_dates.append(record['lastLogin'])\n",
    "\n",
    "unique_dates_str = [str(date).split(' ')[0] for date in unique_dates]\n",
    "\n",
    "#Get User Counts for Each Date\n",
    "date_counts = {date: 0 for date in unique_dates}\n",
    "for record in login_data:\n",
    "    date_counts[record['lastLogin']] += 1\n",
    "\n",
    "date_counts_str = {}\n",
    "for date in date_counts:\n",
    "    date_counts_str[str(date).split(' ')[0]] = date_counts[date]"
   ]
  },
  {
   "cell_type": "markdown",
   "metadata": {},
   "source": [
    "## Login Count - Last 7 Day Totals"
   ]
  },
  {
   "cell_type": "code",
   "execution_count": null,
   "metadata": {},
   "outputs": [],
   "source": [
    "#Get the Last Seven Days\n",
    "if len(unique_dates_str) >= 7:\n",
    "    recent_dates = unique_dates_str[-7:]\n",
    "else:\n",
    "    recent_dates = unique_dates_str\n",
    "\n",
    "recent_date_counts = {key:date_counts_str[key] for key in date_counts_str.keys() if key in recent_dates}\n",
    "\n",
    "#Build Bar Chart\n",
    "fig, ax = plt.subplots()\n",
    "ax.bar(list(recent_date_counts.keys()), list(recent_date_counts.values()), color = single_plot_color)\n",
    "ax.set_ylim([min(list(recent_date_counts.values())) - 1, max(list(recent_date_counts.values())) + 5])\n",
    "ax.bar_label(ax.containers[0], label_type = 'edge', padding = 2)\n",
    "plt.title(f'Total Daily User Logins (last {len(recent_date_counts)} Days)')\n",
    "ax.set_ylabel('Daily Users (Total)')\n",
    "ax.set_xlabel('Date')\n",
    "fig.set_figwidth(10)\n",
    "\n",
    "#Save/Show Plot\n",
    "plt.savefig(figure_directory + 'daily_user_logins_date.png', bbox_inches = 'tight')\n",
    "if show_plots is True:\n",
    "    plt.show()\n",
    "else:\n",
    "    plt.close()"
   ]
  },
  {
   "cell_type": "markdown",
   "metadata": {},
   "source": [
    "## Time Series - All Time Totals by Day"
   ]
  },
  {
   "cell_type": "code",
   "execution_count": null,
   "metadata": {},
   "outputs": [],
   "source": [
    "#Build Time Series\n",
    "fig, ax = plt.subplots()\n",
    "plt.plot(date_counts.keys(),date_counts.values(), single_plot_color)\n",
    "plt.title('Total Daily User Logins over Time')\n",
    "ax.set_ylabel('Daily Users (Total)')\n",
    "ax.set_xlabel('Date')\n",
    "fig.set_figwidth(10)\n",
    "plt.xticks(rotation=30, ha='right')\n",
    "\n",
    "#Save/Show Plot\n",
    "plt.savefig(figure_directory + 'daily_user_logins_timeSeries.png', bbox_inches = 'tight')\n",
    "if show_plots is True:\n",
    "    plt.show()\n",
    "else:\n",
    "    plt.close()"
   ]
  },
  {
   "cell_type": "markdown",
   "metadata": {},
   "source": [
    "## Bar Chart - Average Totals by Day of Week"
   ]
  },
  {
   "cell_type": "code",
   "execution_count": null,
   "metadata": {},
   "outputs": [],
   "source": [
    "#Bar Chart (By Day of Week)\n",
    "day_values = {0:'Monday', 1:'Tuesday', 2:'Wednesday', 3:'Thursday',\n",
    "    4:'Friday' ,5:'Saturday', 6:'Sunday'}\n",
    "day_counts = {'Monday':0,'Tuesday':0, 'Wednesday':0, 'Thursday':0,\n",
    "    'Friday':0, 'Saturday':0, 'Sunday':0}\n",
    "per_day_of_week = {'Monday':0,'Tuesday':0, 'Wednesday':0, 'Thursday':0,\n",
    "    'Friday':0, 'Saturday':0, 'Sunday':0}\n",
    "all_dates = []\n",
    "\n",
    "for record in login_data:\n",
    "    day_val = day_values[record['lastLogin'].weekday()]\n",
    "    if record['lastLogin'] not in all_dates:\n",
    "        all_dates.append(record['lastLogin'])\n",
    "        per_day_of_week[day_val] += 1\n",
    "    day_counts[day_val] += 1\n",
    "\n",
    "#Normalize Counts\n",
    "day_counts = {day:int(day_counts[day]/per_day_of_week[day]) for day in day_counts.keys() if day_counts[day] != 0}\n",
    "\n",
    "#Build Bar Chart\n",
    "fig, ax = plt.subplots()\n",
    "ax.bar(list(day_counts.keys()), list(day_counts.values()), color = single_plot_color)\n",
    "ax.set_ylim([min(day_counts.values()) - 1, max(day_counts.values()) + 5])\n",
    "ax.bar_label(ax.containers[0], label_type = 'edge', padding = 2)\n",
    "plt.title('Average Daily User Logins (Day of Week)')\n",
    "ax.set_ylabel('Daily Users (Average)')\n",
    "ax.set_xlabel('Day of Week')\n",
    "fig.set_figwidth(10)\n",
    "\n",
    "#Save/Show Plot\n",
    "plt.savefig(figure_directory + 'daily_user_logins_DOW.png', bbox_inches = 'tight')\n",
    "if show_plots is True:\n",
    "    plt.show()\n",
    "else:\n",
    "    plt.close()"
   ]
  },
  {
   "cell_type": "markdown",
   "metadata": {},
   "source": [
    "## Total Logins by User Type"
   ]
  },
  {
   "cell_type": "code",
   "execution_count": null,
   "metadata": {},
   "outputs": [],
   "source": [
    "#Get Counts for User Type\n",
    "user_role_counts = {record['role']:0 for record in login_data}\n",
    "for record in login_data:\n",
    "    user_role_counts[record['role']] += 1\n",
    "\n",
    "#Build Bar Chart\n",
    "fig, ax = plt.subplots()\n",
    "ax.bar(list(user_role_counts.keys()), list(user_role_counts.values()), color = single_plot_color)\n",
    "ax.set_ylim([min(user_role_counts.values()) - 1, max(user_role_counts.values()) + 35])\n",
    "ax.bar_label(ax.containers[0], label_type = 'edge', padding = 2)\n",
    "plt.title('Total Logins by User Type')\n",
    "ax.set_ylabel('Total Logins')\n",
    "ax.set_xlabel('User Role')\n",
    "fig.set_figwidth(10)\n",
    "\n",
    "#Save/Show Plot\n",
    "plt.savefig(figure_directory + 'logins_by_userrole.png', bbox_inches = 'tight')\n",
    "if show_plots is True:\n",
    "    plt.show()\n",
    "else:\n",
    "    plt.close()"
   ]
  },
  {
   "cell_type": "markdown",
   "metadata": {},
   "source": [
    "## Logins by User Type - Last 7 Day Totals"
   ]
  },
  {
   "cell_type": "code",
   "execution_count": null,
   "metadata": {},
   "outputs": [],
   "source": [
    "#Get the Last Seven Days\n",
    "if len(unique_dates) >= 7:\n",
    "    recent_dates = unique_dates[-7:]\n",
    "else:\n",
    "    recent_dates = unique_dates\n",
    "\n",
    "#Get a List of User Roles\n",
    "user_roles = {record['role'] for record in login_data}\n",
    "\n",
    "#Create a Nested Dictionary with Roles and Dates\n",
    "user_role_day_counts = {role:{date:0 for date in recent_dates} for role in user_roles}\n",
    "\n",
    "#Get Counts\n",
    "for record in login_data:\n",
    "    try:\n",
    "        user_role_day_counts[record['role']][record['lastLogin']] += 1\n",
    "    except:\n",
    "        pass\n",
    "\n",
    "#Change From Dates to String to Help with Formatting\n",
    "user_role_day_counts = {role:{str(date).split(' ')[0]:user_role_day_counts[role][date] for date in user_role_day_counts[role]} for role in user_role_day_counts}\n",
    "\n",
    "#Build Bar Chart\n",
    "fig, ax = plt.subplots()\n",
    "bottom = [0 for date in recent_dates]\n",
    "colors = multi_plot_colors[-len(user_roles):]\n",
    "for index, role in enumerate(user_role_day_counts):\n",
    "    plt.bar(list(user_role_day_counts[role].keys()), list(user_role_day_counts[role].values()), bottom = bottom, color = colors[index])\n",
    "    bottom = [x + y for x, y in zip(bottom, list(user_role_day_counts[role].values()))]\n",
    "\n",
    "plt.title(f'Logins by User Type (last {len(recent_dates)} Days)')\n",
    "ax.set_ylabel('Users by Role')\n",
    "ax.set_xlabel('Date')\n",
    "plt.legend(list(user_roles), title = 'User Roles', loc = 'upper right', bbox_to_anchor = (1.22, 1.00))\n",
    "fig.set_figwidth(10)\n",
    "\n",
    "#Save/Show Plot\n",
    "plt.savefig(figure_directory + 'logins_by_userrole_date.png', bbox_inches = 'tight')\n",
    "if show_plots is True:\n",
    "    plt.show()\n",
    "else:\n",
    "    plt.close()"
   ]
  },
  {
   "cell_type": "markdown",
   "metadata": {},
   "source": [
    "## Time Series - All Time Totals by User Role"
   ]
  },
  {
   "cell_type": "code",
   "execution_count": null,
   "metadata": {},
   "outputs": [],
   "source": [
    "#Get the Last Seven Days\n",
    "if len(unique_dates) >= 7:\n",
    "    recent_dates = unique_dates[-7:]\n",
    "else:\n",
    "    recent_dates = unique_dates\n",
    "\n",
    "#Get a List of User Roles\n",
    "user_roles = {record['role'] for record in login_data}\n",
    "\n",
    "#Create a Nested Dictionary with Roles and Dates\n",
    "user_role_day_counts = {role:{date:0 for date in recent_dates} for role in user_roles}\n",
    "\n",
    "#Get Counts\n",
    "for record in login_data:\n",
    "    try:\n",
    "        user_role_day_counts[record['role']][record['lastLogin']] += 1\n",
    "    except:\n",
    "        pass\n",
    "\n",
    "#Build Plot\n",
    "#Build Time Series\n",
    "fig, ax = plt.subplots()\n",
    "colors = multi_plot_colors[-len(user_roles):]\n",
    "for index, role in enumerate(user_role_day_counts):\n",
    "    plt.plot(list(user_role_day_counts[role].keys()), list(user_role_day_counts[role].values()), colors[index])\n",
    "\n",
    "plt.title('Daily User Logins by User Type')\n",
    "ax.set_ylabel('Users by Role')\n",
    "ax.set_xlabel('Date')\n",
    "fig.set_figwidth(10)\n",
    "plt.xticks(rotation=30, ha='right')\n",
    "plt.legend(list(user_roles), title = 'User Roles', loc = 'upper right', bbox_to_anchor = (1.22, 1.00))\n",
    "#Save/Show Plot\n",
    "plt.savefig(figure_directory + 'logins_by_userrole_timeSeries.png', bbox_inches = 'tight')\n",
    "if show_plots is True:\n",
    "    plt.show()\n",
    "else:\n",
    "    plt.close()"
   ]
  }
 ],
 "metadata": {
  "kernelspec": {
   "display_name": "ArcGISPro",
   "language": "Python",
   "name": "python3"
  },
  "language_info": {
   "codemirror_mode": {
    "name": "ipython",
    "version": 3
   },
   "file_extension": ".py",
   "mimetype": "text/x-python",
   "name": "python",
   "nbconvert_exporter": "python",
   "pygments_lexer": "ipython3",
   "version": "3.12.3"
  }
 },
 "nbformat": 4,
 "nbformat_minor": 2
}
