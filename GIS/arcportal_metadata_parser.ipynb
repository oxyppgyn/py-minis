{
 "cells": [
  {
   "cell_type": "markdown",
   "metadata": {},
   "source": [
    "# Install xmltodict (Not Default with ArcGIS Pro)"
   ]
  },
  {
   "cell_type": "code",
   "execution_count": null,
   "metadata": {},
   "outputs": [],
   "source": [
    "#Install xmltodict\n",
    "try:\n",
    "    %pip install xmltodict\n",
    "\n",
    "except:\n",
    "    !pip install xmltodict"
   ]
  },
  {
   "cell_type": "markdown",
   "metadata": {},
   "source": [
    "# Define Functions"
   ]
  },
  {
   "cell_type": "code",
   "execution_count": null,
   "metadata": {},
   "outputs": [],
   "source": [
    "import os.path\n",
    "import xmltodict\n",
    "\n",
    "#Define functions\n",
    "def arcgis_metadata_dict(items):\n",
    "    \"\"\"\n",
    "    Formats items from ArcGIS Portal into a dictionary of metadata.\n",
    "    \n",
    "    Parameters:\n",
    "    * `items`: A list of items from ArcGIS Portal such as from the `gis.content.search` function.\n",
    "    \"\"\"\n",
    "    metadata = {}\n",
    "    for item in items:\n",
    "        #Read XML Data to Dictionaries\n",
    "        if \"Error: Metadata file does not exist or is inaccessible\" not in item.metadata:\n",
    "            if \"metadata.xml\" in item.metadata:\n",
    "                with open(item.metadata, 'rb') as file:\n",
    "                    metadata[item.id] = xmltodict.parse(file)['metadata']\n",
    "                    \n",
    "        #If no Metadata Exists, Assign Null\n",
    "        if item.id not in metadata:\n",
    "            metadata[item.id] = None\n",
    "            \n",
    "    return metadata\n",
    "    \n",
    "def format_metadata_dict(input_dict: dict, fields: list, skip_no_data = True):\n",
    "    \"\"\"\n",
    "    Pulls data from metadata fields and exports it to a flattened table format.\n",
    "    \n",
    "    Parameters:\n",
    "    * `input_dict`: Dictionary outputted from `arcgis_metadata_dict`.\n",
    "    * `fields`: Fields to export from the dictionary mapped to new names to use. \n",
    "    These are written with slashes between for each level. Ex: \"Esri/CreaDate\" \n",
    "    to get creation date.\n",
    "    * `skip_no_data`: If items with no metadata file should be skipped.\n",
    "        * Default: `None`\n",
    "    \"\"\"\n",
    "    #Convert Fields to a List\n",
    "    if not isinstance(fields, dict):\n",
    "        raise TypeError('Fields must be a dictionary.')\n",
    "    fields_map = fields\n",
    "    fields = [field.split('/') for field in fields]\n",
    "\n",
    "    #Iterate Through Items\n",
    "    out_table = []\n",
    "    for item in input_dict:\n",
    "        #Get Dictionary for Specific Item\n",
    "        item_dict = input_dict[item]\n",
    "        table_row = {'id':item}\n",
    "        \n",
    "        #if No Data, Skip or Assign None to All Fields\n",
    "        if item_dict is None:\n",
    "            if skip_no_data is True:\n",
    "                continue\n",
    "                \n",
    "            for field in list(fields_map.keys()):\n",
    "                table_row[fields_map[field]] = None\n",
    "            \n",
    "            #Add Row to Table\n",
    "            out_table.append(table_row)\n",
    "            continue\n",
    "        \n",
    "        for index, field in enumerate(fields):\n",
    "            #Traverse through Dictionaries to Get Values\n",
    "            for level in field:\n",
    "                try:\n",
    "                    try:\n",
    "                        out_field_data\n",
    "                        out_field_data = out_field_data[level]\n",
    "                    except:\n",
    "                        out_field_data = item_dict[level]\n",
    "                except:\n",
    "                    out_field_data = None\n",
    "            \n",
    "            #Add Value to Table Row\n",
    "            table_row[fields_map[list(fields_map.keys())[index]]] = out_field_data\n",
    "            del out_field_data\n",
    "        \n",
    "        #Add Row to Table\n",
    "        out_table.append(table_row)\n",
    "\n",
    "    return out_table"
   ]
  },
  {
   "cell_type": "markdown",
   "metadata": {},
   "source": [
    "# Usage Example\n",
    "`dict_fields`: A dictionary of fields to be pulled from XML data. The keys will represent the actual fields, while the values represent the field names they will be assigned to in the table. Fields in XML have to be written with \"levels\". For each indent in the file, a new field level can be added with a \"/\".\n",
    "\n",
    "`csv_file`: The CSV file the table will be saved to."
   ]
  },
  {
   "cell_type": "code",
   "execution_count": null,
   "metadata": {},
   "outputs": [],
   "source": [
    "#Parameters\n",
    "dict_fields = {'Esri/CreaDate':'CreateDate'}\n",
    "csv_file = 'C://path/to/your/file.csv'"
   ]
  },
  {
   "cell_type": "code",
   "execution_count": null,
   "metadata": {},
   "outputs": [],
   "source": [
    "from arcgis import GIS\n",
    "import pandas as pd\n",
    "\n",
    "#Login to ArcGIS Portal\n",
    "gis = GIS('pro')\n",
    "\n",
    "#Get Items\n",
    "##This only gives you 500 items\n",
    "items = gis.content.search('*', max_items = 500)\n",
    "\n",
    "#Convert XML Files to Nested Dictionaries\n",
    "metadata_dict = arcgis_metadata_dict(items)\n",
    "\n",
    "#Pull Data from Dictionaries to Make a Flat Table\n",
    "metadata_table = format_metadata_dict(input_dict = metadata_dict, fields = dict_fields, skip_no_data = True)\n",
    "\n",
    "#Conver to DataFrame\n",
    "metadata_df = pd.DataFrame(metadata_table)\n",
    "\n",
    "#Write to CSV File (Uncomment to Use)\n",
    "pd.metadata_df.to_csv(csv_file, index = False)\n",
    "\n",
    "#View DataFrame\n",
    "metadata_df"
   ]
  }
 ],
 "metadata": {
  "kernelspec": {
   "display_name": "ArcGISPro",
   "language": "Python",
   "name": "python3"
  },
  "language_info": {
   "file_extension": ".py",
   "name": "python",
   "version": "3"
  }
 },
 "nbformat": 4,
 "nbformat_minor": 2
}
