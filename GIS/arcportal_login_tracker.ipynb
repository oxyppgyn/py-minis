{
 "cells": [
  {
   "cell_type": "markdown",
   "metadata": {},
   "source": [
    "# ArcGIS Portal Usage Logger\n",
    "## Description\n",
    "Creates a usage log for an organization's ArcGIS Portal using user logins. The last login date for each user is initially recorded, with a new record being added for a user if the last login date is different from the lastest record (i.e., a more recent login). From this data, you can track what users are utilizing the organization's Portal the most and find any who rarely utilize it to aid with role reassignment. This data can also help inform Portal administrator on the potential impacts of a service outage on users.\n",
    "\n",
    "This script is intented to act as an alternative to using ArcGIS Monitor. Ideally, this script should be scheduled to run every day and not done manually.\n",
    "## Parameters\n",
    "`csv_file` - A file path for the CSV file data will be stored in. This must end in `.csv`.\n",
    "\n",
    "`log_fields` - A list of fields to log. Usernames and login dates are always logged. This parameter can be an empty string if no additional fields are required.\n",
    "\n",
    "`save_daily_copy` - Whether or not to create a daily usage log file along with the composite CSV file. Daily files are named in the format: `{csv_file_name}_DAILY_{YYYYMMDD}.csv`.\n",
    "## Notes\n",
    "This script is built to use a login with ArcGIS Pro. To use another method, change the following line of code: `gis = GIS('pro')`."
   ]
  },
  {
   "cell_type": "code",
   "execution_count": 1,
   "metadata": {},
   "outputs": [],
   "source": [
    "#Params\n",
    "##CSV File Path\n",
    "csv_file = 'C:/path/to/your/file.csv'\n",
    "\n",
    "##Data Fields to Log\n",
    "log_fields = ['role'] \n",
    "#Options: 'udn', 'id', 'fullName', 'categories', 'emailStatus', 'firstName', 'lastName', \n",
    "#         'preferredView', 'description', 'email', 'userType', 'idpUsername', 'favGroupId', \n",
    "#         'mfaEnabled', 'storageUsage', 'storageQuota', 'orgId', 'level', 'userLicenseTypeId', \n",
    "#         'disabled', 'tags', 'culture', 'cultureFormat', 'region', 'units', 'thumbnail', \n",
    "#         'access', 'created', 'modified', 'provider', 'roleId', 'role'\n",
    "\n",
    "#Whether to Save a Daily Copy of New Data\n",
    "save_daily_copy = False"
   ]
  },
  {
   "cell_type": "code",
   "execution_count": 2,
   "metadata": {},
   "outputs": [],
   "source": [
    "#Parameter Validation\n",
    "if csv_file[-4::] != '.csv':\n",
    "    raise ValueError('csv_file must be a file path ending with \".csv\".')\n",
    "if not isinstance(save_daily_copy, bool):\n",
    "    raise ValueError('save_daily_copy must be a boolean value.')\n",
    "if not isinstance(log_fields, list):\n",
    "    raise ValueError('log_fields must be a list of values.')"
   ]
  },
  {
   "cell_type": "code",
   "execution_count": 3,
   "metadata": {},
   "outputs": [],
   "source": [
    "#Import Modules\n",
    "from datetime import datetime\n",
    "from arcgis import GIS\n",
    "import pandas as pd"
   ]
  },
  {
   "cell_type": "code",
   "execution_count": 4,
   "metadata": {},
   "outputs": [],
   "source": [
    "#Read in Old Data\n",
    "##If not found, create a new file\n",
    "try:\n",
    "    old_data = pd.read_csv(csv_file).to_dict(orient = 'records')\n",
    "    old_data_exists = True\n",
    "    \n",
    "    #Get Latest Login Date\n",
    "    ##Last login == last record in table for user\n",
    "    last_login_dates = {}\n",
    "    for record in reversed(old_data):\n",
    "        if record['username'] not in last_login_dates:\n",
    "            last_login_dates[record['username']] = record['lastLogin'].split(' ')[0]\n",
    "    \n",
    "except FileNotFoundError:\n",
    "    old_data_exists = False"
   ]
  },
  {
   "cell_type": "code",
   "execution_count": 5,
   "metadata": {},
   "outputs": [],
   "source": [
    "#Pull User Data\n",
    "gis = GIS('pro')\n",
    "users = gis.users.search(max_users = 10000)\n",
    "\n",
    "#Iterate Through Users\n",
    "log_data = []\n",
    "for user in users:\n",
    "    #Ignore Any Users who have Never Logged In\n",
    "    if user['lastLogin'] == -1:\n",
    "        continue\n",
    "    \n",
    "    #Get Date as a String\n",
    "    date = str(datetime.fromtimestamp(int(user['lastLogin'] / 1000))).split(' ')[0]\n",
    "    if date != str(datetime.today()).split(' ')[0]:\n",
    "        continue\n",
    "        \n",
    "    #Check if the Date is Already Logged (Allows for Multiple Script Runs in a Single Day)\n",
    "    if old_data_exists is True:\n",
    "        if user['username'] in last_login_dates:\n",
    "            if date == last_login_dates[user['username']]:\n",
    "                continue\n",
    "\n",
    "    #Collect Data and Add to New List\n",
    "    user_data = {}\n",
    "    user_data['username'] = user['username']\n",
    "    user_data['lastLogin'] = date\n",
    "\n",
    "    for field in log_fields:\n",
    "        ##Format Date Fields\n",
    "        if field in ['created','modified'] and user[field]:\n",
    "            user_data[field] = str(datetime.fromtimestamp(int(user[field] / 1000)))\n",
    "        else:\n",
    "            user_data[field] = user[field]\n",
    "            \n",
    "    log_data.append(user_data)\n",
    "\n",
    "#Combine Data and Convert to CSV\n",
    "if save_daily_copy is True:\n",
    "    date_today = datetime.strftime(datetime.now(), '20%y%m%d')\n",
    "    daily_csv = f'{csv_file[:-4]}_DAILY_{date_today}.csv'\n",
    "    pd.DataFrame(log_data).to_csv(daily_csv, index = False)\n",
    "    \n",
    "if old_data_exists is True:\n",
    "    old_data.extend(log_data)\n",
    "    pd.DataFrame(old_data).to_csv(csv_file, index = False)\n",
    "else:\n",
    "    pd.DataFrame(log_data).to_csv(csv_file, index = False)"
   ]
  }
 ],
 "metadata": {
  "kernelspec": {
   "display_name": "ArcGISPro",
   "language": "Python",
   "name": "python3"
  },
  "language_info": {
   "file_extension": ".py",
   "name": "python",
   "version": "3"
  }
 },
 "nbformat": 4,
 "nbformat_minor": 2
}
